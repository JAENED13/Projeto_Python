{
  "nbformat": 4,
  "nbformat_minor": 0,
  "metadata": {
    "colab": {
      "provenance": [],
      "authorship_tag": "ABX9TyNeic+G7PXrvqWmX+utvD+1",
      "include_colab_link": true
    },
    "kernelspec": {
      "name": "python3",
      "display_name": "Python 3"
    },
    "language_info": {
      "name": "python"
    }
  },
  "cells": [
    {
      "cell_type": "markdown",
      "metadata": {
        "id": "view-in-github",
        "colab_type": "text"
      },
      "source": [
        "<a href=\"https://colab.research.google.com/github/JAENED13/Projeto_Python/blob/main/Untitled5.ipynb\" target=\"_parent\"><img src=\"https://colab.research.google.com/assets/colab-badge.svg\" alt=\"Open In Colab\"/></a>"
      ]
    },
    {
      "cell_type": "code",
      "execution_count": 5,
      "metadata": {
        "colab": {
          "base_uri": "https://localhost:8080/"
        },
        "id": "REhljWkrvaHH",
        "outputId": "312cfe5f-2ce9-4588-dba5-f46bdb1964e8"
      },
      "outputs": [
        {
          "output_type": "stream",
          "name": "stdout",
          "text": [
            "Digite a primeira informação: Olá\n",
            "Digite a segunda informação: Mundo\n",
            "As informações contactenadas são:  Olá Mundo\n"
          ]
        }
      ],
      "source": [
        "##Projeto_Python\n",
        "##Utilizando as Ferramentas do Github para Solucionar Algoritmos em Python##\n",
        "##Vamos receber dois dados diferentes do usuario e contactena-los##\n",
        "info1 = input(\"Digite a primeira informação: \")\n",
        "info2 = input(\"Digite a segunda informação: \")\n",
        "info_concatenada = info1 + \" \" + info2\n",
        "print (\"As informações contactenadas são: \", info_concatenada)"
      ]
    }
  ]
}