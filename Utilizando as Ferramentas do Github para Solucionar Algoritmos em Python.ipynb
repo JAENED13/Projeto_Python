{
  "nbformat": 4,
  "nbformat_minor": 0,
  "metadata": {
    "colab": {
      "provenance": [],
      "authorship_tag": "ABX9TyPNTwA4IKkW9kz0DyzyTrRc",
      "include_colab_link": true
    },
    "kernelspec": {
      "name": "python3",
      "display_name": "Python 3"
    },
    "language_info": {
      "name": "python"
    }
  },
  "cells": [
    {
      "cell_type": "markdown",
      "metadata": {
        "id": "view-in-github",
        "colab_type": "text"
      },
      "source": [
        "<a href=\"https://colab.research.google.com/github/JAENED13/Projeto_Python/blob/main/Utilizando%20as%20Ferramentas%20do%20Github%20para%20Solucionar%20Algoritmos%20em%20Python.ipynb\" target=\"_parent\"><img src=\"https://colab.research.google.com/assets/colab-badge.svg\" alt=\"Open In Colab\"/></a>"
      ]
    },
    {
      "cell_type": "code",
      "execution_count": null,
      "metadata": {
        "colab": {
          "base_uri": "https://localhost:8080/"
        },
        "id": "REhljWkrvaHH",
        "outputId": "312cfe5f-2ce9-4588-dba5-f46bdb1964e8"
      },
      "outputs": [
        {
          "output_type": "stream",
          "name": "stdout",
          "text": [
            "Digite a primeira informação: Olá\n",
            "Digite a segunda informação: Mundo\n",
            "As informações contactenadas são:  Olá Mundo\n"
          ]
        }
      ],
      "source": [
        "##Projeto_Python\n",
        "##Utilizando as Ferramentas do Github para Solucionar Algoritmos em Python##\n",
        "##Vamos receber dois dados diferentes do usuario e contactena-los##\n",
        "info1 = input(\"Digite a primeira informação: \")\n",
        "info2 = input(\"Digite a segunda informação: \")\n",
        "info_concatenada = info1 + \" \" + info2\n",
        "print (\"As informações contactenadas são: \", info_concatenada)"
      ]
    },
    {
      "cell_type": "code",
      "source": [
        "## Agora vamos solicitar uma string e um numero inteiro como entrada.Depois teremos que retornar a string repetida o numero de vezes informado.##\n",
        "string = input(\"Digite uma string: \")\n",
        "numero = int(input(\"Digite um número inteiro: \"))\n",
        "resultado = string * numero\n",
        "print(\"A string repetida é:\", resultado)"
      ],
      "metadata": {
        "id": "kVVGI0_Pet_z",
        "outputId": "8c73fdf4-a8d1-46d0-f14b-b2e76b7b1c64",
        "colab": {
          "base_uri": "https://localhost:8080/"
        }
      },
      "execution_count": 4,
      "outputs": [
        {
          "output_type": "stream",
          "name": "stdout",
          "text": [
            "Digite uma string: Ela\n",
            "Digite um número inteiro: 12\n",
            "A string repetida é: ElaElaElaElaElaElaElaElaElaElaElaEla\n"
          ]
        }
      ]
    }
  ]
}