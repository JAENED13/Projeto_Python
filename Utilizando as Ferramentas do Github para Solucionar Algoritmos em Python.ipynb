{
  "nbformat": 4,
  "nbformat_minor": 0,
  "metadata": {
    "colab": {
      "provenance": [],
      "authorship_tag": "ABX9TyPxbaALaVwv25Dt2Y9nLCHs",
      "include_colab_link": true
    },
    "kernelspec": {
      "name": "python3",
      "display_name": "Python 3"
    },
    "language_info": {
      "name": "python"
    }
  },
  "cells": [
    {
      "cell_type": "markdown",
      "metadata": {
        "id": "view-in-github",
        "colab_type": "text"
      },
      "source": [
        "<a href=\"https://colab.research.google.com/github/JAENED13/Projeto_Python/blob/main/Utilizando%20as%20Ferramentas%20do%20Github%20para%20Solucionar%20Algoritmos%20em%20Python.ipynb\" target=\"_parent\"><img src=\"https://colab.research.google.com/assets/colab-badge.svg\" alt=\"Open In Colab\"/></a>"
      ]
    },
    {
      "cell_type": "code",
      "execution_count": null,
      "metadata": {
        "colab": {
          "base_uri": "https://localhost:8080/"
        },
        "id": "REhljWkrvaHH",
        "outputId": "312cfe5f-2ce9-4588-dba5-f46bdb1964e8"
      },
      "outputs": [
        {
          "output_type": "stream",
          "name": "stdout",
          "text": [
            "Digite a primeira informação: Olá\n",
            "Digite a segunda informação: Mundo\n",
            "As informações contactenadas são:  Olá Mundo\n"
          ]
        }
      ],
      "source": [
        "##Projeto_Python\n",
        "##Utilizando as Ferramentas do Github para Solucionar Algoritmos em Python##\n",
        "##Vamos receber dois dados diferentes do usuario e contactena-los##\n",
        "info1 = input(\"Digite a primeira informação: \")\n",
        "info2 = input(\"Digite a segunda informação: \")\n",
        "info_concatenada = info1 + \" \" + info2\n",
        "print (\"As informações contactenadas são: \", info_concatenada)"
      ]
    },
    {
      "cell_type": "code",
      "source": [
        "## Agora vamos solicitar uma string e um numero inteiro como entrada.Depois teremos que retornar a string repetida o numero de vezes informado.##\n",
        "string = input(\"Digite uma string: \")\n",
        "numero = int(input(\"Digite um número inteiro: \"))\n",
        "resultado = string * numero\n",
        "print(\"A string repetida é:\", resultado)"
      ],
      "metadata": {
        "id": "kVVGI0_Pet_z",
        "outputId": "8c73fdf4-a8d1-46d0-f14b-b2e76b7b1c64",
        "colab": {
          "base_uri": "https://localhost:8080/"
        }
      },
      "execution_count": null,
      "outputs": [
        {
          "output_type": "stream",
          "name": "stdout",
          "text": [
            "Digite uma string: Ela\n",
            "Digite um número inteiro: 12\n",
            "A string repetida é: ElaElaElaElaElaElaElaElaElaElaElaEla\n"
          ]
        }
      ]
    },
    {
      "cell_type": "code",
      "source": [
        "## Operação Matemática Simples. Vamos solicitar como entrada dois numeros e depois vamos realizar uma operacao simples entre eles.\n",
        "num1 = int(input(\"Digite o primeiro número: \"))\n",
        "num2 = int(input(\"Digite o segundo número: \"))\n",
        "operacao = input(\"Digite a operação desejada (+, -, *, /): \")\n",
        "if operacao == \"+\":\n",
        "    resultado_soma = num1 + num2\n",
        "    print(\"O resultado da soma é:\", resultado_soma)\n",
        "elif operacao == \"-\":\n",
        "    resultado_subtracao = num1 - num2\n",
        "    print(\"O resultado da subtração é:\", abs(resultado_subtracao))\n",
        "elif operacao == \"*\":\n",
        "    resultado_multiplicacao = num1 * num2\n",
        "    print(\"O resultado da multiplicação é:\", resultado_multiplicacao)\n",
        "elif operacao == \"/\":\n",
        "    resultado_divisao = num1 / num\n",
        "    print(\"O resultado da divisão é:\", resultado_divisao)\n",
        "else:\n",
        "    print(\"Operação inválida\")"
      ],
      "metadata": {
        "id": "c3TjxHvJyL1n"
      },
      "execution_count": null,
      "outputs": []
    }
  ]
}